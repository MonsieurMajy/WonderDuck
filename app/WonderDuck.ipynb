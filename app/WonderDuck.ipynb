{
 "cells": [
  {
   "cell_type": "code",
   "execution_count": 5,
   "metadata": {},
   "outputs": [
    {
     "ename": "ModuleNotFoundError",
     "evalue": "No module named 'solution'",
     "output_type": "error",
     "traceback": [
      "\u001b[1;31m---------------------------------------------------------------------------\u001b[0m",
      "\u001b[1;31mModuleNotFoundError\u001b[0m                       Traceback (most recent call last)",
      "\u001b[1;32m<ipython-input-5-7347836b25a3>\u001b[0m in \u001b[0;36m<module>\u001b[1;34m\u001b[0m\n\u001b[0;32m      2\u001b[0m \u001b[1;32mimport\u001b[0m \u001b[0mgzip\u001b[0m \u001b[1;32mas\u001b[0m \u001b[0mnik\u001b[0m\u001b[1;33m\u001b[0m\u001b[1;33m\u001b[0m\u001b[0m\n\u001b[0;32m      3\u001b[0m \u001b[1;32mimport\u001b[0m \u001b[0mrandom\u001b[0m \u001b[1;32mas\u001b[0m \u001b[0mquentin\u001b[0m\u001b[1;33m\u001b[0m\u001b[1;33m\u001b[0m\u001b[0m\n\u001b[1;32m----> 4\u001b[1;33m \u001b[1;32mimport\u001b[0m \u001b[0msolution\u001b[0m\u001b[1;33m\u001b[0m\u001b[1;33m\u001b[0m\u001b[0m\n\u001b[0m",
      "\u001b[1;31mModuleNotFoundError\u001b[0m: No module named 'solution'"
     ]
    }
   ],
   "source": [
    "import requests\n",
    "import gzip as nik\n",
    "import random as quentin\n",
    "import solution"
   ]
  },
  {
   "cell_type": "code",
   "execution_count": 2,
   "metadata": {},
   "outputs": [],
   "source": [
    "url = \"https://roboats.virtualregatta.com/api/\"\n",
    "\n",
    "def post_login() :\n",
    "    \n",
    "    r = requests.post(url+\"login\",\n",
    "                  json={\"email\" : \"malo.adler@telecom-paris.fr\",\n",
    "                            \"password\" : \"wonderduck\",\n",
    "                            \"raceId\" : 531,\n",
    "                            \"legNum\" : 1} )\n",
    "    \n",
    "    if(r.status_code != 200) :\n",
    "        raise SystemExit(\"Login failed : \" + str(r.status_code))\n",
    "        \n",
    "    return(r.headers['token'])\n",
    "\n",
    "############################################################################################################################\n",
    "\n",
    "def get_info_slow(token) :\n",
    "    \n",
    "    r = requests.get(url+\"infos/slow\",\n",
    "                  headers={\"token\" : token })\n",
    "    \n",
    "    if(r.status_code != 200) :\n",
    "        raise SystemExit(\"Get info slow failed : \" + str(r.status_code))\n",
    "        \n",
    "    return(r.text)\n",
    "\n",
    "############################################################################################################################\n",
    "def get_info_fast(token) :\n",
    "    \n",
    "    r = requests.get(url+\"infos/fast\",\n",
    "                  headers={\"token\" : token })\n",
    "    \n",
    "    if(r.status_code != 200) :\n",
    "        raise SystemExit(\"Get info fast failed : \" + str(r.status_code))\n",
    "        \n",
    "    return(r.text)\n",
    "\n",
    "############################################################################################################################\n",
    "\n",
    "def put_boat_action(token , json) :\n",
    "    \n",
    "    r = requests.put(url+\"boat/actions\",\n",
    "                    headers={\"token\" : token },\n",
    "                    json=json)\n",
    "    \n",
    "    if(r.status_code != 200) :\n",
    "        raise SystemExit(\"Put boat action failed : \" + str(r.status_code))\n",
    "        \n",
    "    return(r)\n",
    "\n",
    "############################################################################################################################\n",
    "\n",
    "def change_heading(token , deg , lock_sail) :\n",
    "    \n",
    "    if deg < 0 or deg > 360 :\n",
    "        raise SystemExit(\"Degree should be between 0 and 360\")\n",
    "        \n",
    "    json = {\n",
    "        \"tsLegStart\": 1640010600000,\n",
    "        \"actions\" : [\n",
    "            {\n",
    "                \"type\": \"heading\",\n",
    "                \"values\" : {\n",
    "                \"deg\": deg,\n",
    "                \"autoTwa\": lock_sail\n",
    "                }\n",
    "            }\n",
    "        ]\n",
    "    }\n",
    "    \n",
    "    r = put_boat_action(token , json)\n",
    "\n",
    "############################################################################################################################\n",
    "\n",
    "def change_sail(token , sailId) :\n",
    "    \n",
    "    json = {\n",
    "        \"tsLegStart\": 1640010600000,\n",
    "        \"actions\" : [\n",
    "            {\n",
    "                \"type\": \"sail\",\n",
    "                \"values\" : {\n",
    "                    \"sailId\" : sailId\n",
    "                }\n",
    "            }\n",
    "        ]\n",
    "    }\n",
    "    \n",
    "    r = put_boat_action(token , json)\n",
    "    \n",
    "############################################################################################################################\n",
    "\n",
    "def place_waypoint(token , wpid , lon , lat) :\n",
    "    \n",
    "    json = {\n",
    "        \"tsLegStart\": 1640010600000,\n",
    "        \"actions\" : [\n",
    "            {\n",
    "                \"type\": \"wp\",\n",
    "                \"values\" : {\n",
    "                    \"nextWpIdx\": wpid + 1,\n",
    "                    \"coordinates\": [\n",
    "                        {\n",
    "                            \"idx\": wpid,\n",
    "                            \"pos\" : {\n",
    "                                \"lon\": lon,\n",
    "                                \"lat\": lat\n",
    "                            }\n",
    "                        }\n",
    "                    ]\n",
    "                }\n",
    "            }\n",
    "        ]\n",
    "    }\n",
    "    \n",
    "    r = put_boat_action(token , json)"
   ]
  },
  {
   "cell_type": "code",
   "execution_count": 3,
   "metadata": {},
   "outputs": [],
   "source": [
    "token = post_login()\n",
    "change_heading(token , 56 , False)\n",
    "change_sail(token , 11)\n",
    "info_slow = get_info_slow(token)\n",
    "info_fast = get_info_fast(token)\n",
    "#place_waypoint(token , 1 , 48 , -7)"
   ]
  },
  {
   "cell_type": "code",
   "execution_count": 4,
   "metadata": {},
   "outputs": [
    {
     "name": "stdout",
     "output_type": "stream",
     "text": [
      "b'<?xml version=\"1.0\" encoding=\"UTF-8\"?>\\n<Error><Code>AccessDenied</Code><Message>Access Denied</Message><RequestId>WATC4NAQPWZMW5B1</RequestId><HostId>oiW48Am52XyddDYM058on46GzbY55ApbyWVZVrzRCvGc1D6osFOivAVvOjJf062pH5V0e6KSocg=</HostId></Error>'\n",
      "None\n"
     ]
    },
    {
     "ename": "ValueError",
     "evalue": "Argument 'encoding' not supported in binary mode",
     "output_type": "error",
     "traceback": [
      "\u001b[1;31m---------------------------------------------------------------------------\u001b[0m",
      "\u001b[1;31mValueError\u001b[0m                                Traceback (most recent call last)",
      "\u001b[1;32m<ipython-input-4-dee501f49619>\u001b[0m in \u001b[0;36m<module>\u001b[1;34m\u001b[0m\n\u001b[0;32m      4\u001b[0m \u001b[0mprint\u001b[0m\u001b[1;33m(\u001b[0m\u001b[0mfile\u001b[0m\u001b[1;33m)\u001b[0m\u001b[1;33m\u001b[0m\u001b[1;33m\u001b[0m\u001b[0m\n\u001b[0;32m      5\u001b[0m \u001b[0mprint\u001b[0m\u001b[1;33m(\u001b[0m\u001b[0mr\u001b[0m\u001b[1;33m.\u001b[0m\u001b[0mencoding\u001b[0m\u001b[1;33m)\u001b[0m\u001b[1;33m\u001b[0m\u001b[1;33m\u001b[0m\u001b[0m\n\u001b[1;32m----> 6\u001b[1;33m \u001b[0mgzip\u001b[0m\u001b[1;33m.\u001b[0m\u001b[0mopen\u001b[0m\u001b[1;33m(\u001b[0m\u001b[0mfile\u001b[0m\u001b[1;33m,\u001b[0m\u001b[0mmode\u001b[0m \u001b[1;33m=\u001b[0m \u001b[1;34m'rb'\u001b[0m \u001b[1;33m,\u001b[0m\u001b[0mencoding\u001b[0m\u001b[1;33m=\u001b[0m\u001b[1;34m'latin-1'\u001b[0m\u001b[1;33m)\u001b[0m\u001b[1;33m\u001b[0m\u001b[1;33m\u001b[0m\u001b[0m\n\u001b[0m",
      "\u001b[1;32m~\\anaconda3\\lib\\gzip.py\u001b[0m in \u001b[0;36mopen\u001b[1;34m(filename, mode, compresslevel, encoding, errors, newline)\u001b[0m\n\u001b[0;32m     48\u001b[0m     \u001b[1;32melse\u001b[0m\u001b[1;33m:\u001b[0m\u001b[1;33m\u001b[0m\u001b[1;33m\u001b[0m\u001b[0m\n\u001b[0;32m     49\u001b[0m         \u001b[1;32mif\u001b[0m \u001b[0mencoding\u001b[0m \u001b[1;32mis\u001b[0m \u001b[1;32mnot\u001b[0m \u001b[1;32mNone\u001b[0m\u001b[1;33m:\u001b[0m\u001b[1;33m\u001b[0m\u001b[1;33m\u001b[0m\u001b[0m\n\u001b[1;32m---> 50\u001b[1;33m             \u001b[1;32mraise\u001b[0m \u001b[0mValueError\u001b[0m\u001b[1;33m(\u001b[0m\u001b[1;34m\"Argument 'encoding' not supported in binary mode\"\u001b[0m\u001b[1;33m)\u001b[0m\u001b[1;33m\u001b[0m\u001b[1;33m\u001b[0m\u001b[0m\n\u001b[0m\u001b[0;32m     51\u001b[0m         \u001b[1;32mif\u001b[0m \u001b[0merrors\u001b[0m \u001b[1;32mis\u001b[0m \u001b[1;32mnot\u001b[0m \u001b[1;32mNone\u001b[0m\u001b[1;33m:\u001b[0m\u001b[1;33m\u001b[0m\u001b[1;33m\u001b[0m\u001b[0m\n\u001b[0;32m     52\u001b[0m             \u001b[1;32mraise\u001b[0m \u001b[0mValueError\u001b[0m\u001b[1;33m(\u001b[0m\u001b[1;34m\"Argument 'errors' not supported in binary mode\"\u001b[0m\u001b[1;33m)\u001b[0m\u001b[1;33m\u001b[0m\u001b[1;33m\u001b[0m\u001b[0m\n",
      "\u001b[1;31mValueError\u001b[0m: Argument 'encoding' not supported in binary mode"
     ]
    }
   ],
   "source": [
    "r = requests.get(url = 'https://static.virtualregatta.com/ressources/maps/dalles/vro2k16/1/0/4/1_-4_44.deg%27')\n",
    "file = r.content\n",
    "\n",
    "print(file)\n",
    "print(r.encoding)\n",
    "nik.open(file,mode = 'rb' ,encoding='latin-1')"
   ]
  }
 ],
 "metadata": {
  "kernelspec": {
   "display_name": "Python 3",
   "language": "python",
   "name": "python3"
  },
  "language_info": {
   "codemirror_mode": {
    "name": "ipython",
    "version": 3
   },
   "file_extension": ".py",
   "mimetype": "text/x-python",
   "name": "python",
   "nbconvert_exporter": "python",
   "pygments_lexer": "ipython3",
   "version": "3.8.5"
  }
 },
 "nbformat": 4,
 "nbformat_minor": 5
}
